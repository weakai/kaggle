{
 "cells": [
  {
   "cell_type": "code",
   "execution_count": 21,
   "metadata": {},
   "outputs": [],
   "source": [
    "import numpy as np\n",
    "import math\n",
    "import matplotlib as plt\n",
    "import torch\n",
    "\n",
    "# 光谱模拟程序\n",
    "l = 1000000 # 干涉区长度\n",
    "n1 = 1.4660 # 模式一\n",
    "n2 = 1.464938 # 模式二\n",
    "x = torch.linspace(1250, 1650, 100000) # 光谱扫描范围\n"
   ]
  },
  {
   "cell_type": "code",
   "execution_count": 22,
   "metadata": {},
   "outputs": [],
   "source": [
    "a = l*n1-l*n2"
   ]
  },
  {
   "cell_type": "code",
   "execution_count": 23,
   "metadata": {},
   "outputs": [
    {
     "ename": "ValueError",
     "evalue": "only one element tensors can be converted to Python scalars",
     "output_type": "error",
     "traceback": [
      "\u001b[0;31m---------------------------------------------------------------------------\u001b[0m",
      "\u001b[0;31mValueError\u001b[0m                                Traceback (most recent call last)",
      "\u001b[1;32m/home/seeyou/projects/kaggle/tmp.ipynb Cell 3'\u001b[0m in \u001b[0;36m<cell line: 1>\u001b[0;34m()\u001b[0m\n\u001b[0;32m----> <a href='vscode-notebook-cell://ssh-remote%2B%E6%88%91%E7%9A%84%E7%94%B5%E8%84%91/home/seeyou/projects/kaggle/tmp.ipynb#ch0000002vscode-remote?line=0'>1</a>\u001b[0m y \u001b[39m=\u001b[39m \u001b[39m-\u001b[39m\u001b[39m5\u001b[39m\u001b[39m*\u001b[39mmath\u001b[39m.\u001b[39mpow(math\u001b[39m.\u001b[39;49mcos(math\u001b[39m.\u001b[39;49mpi\u001b[39m*\u001b[39;49ma\u001b[39m/\u001b[39;49mx), \u001b[39m2\u001b[39m)\u001b[39m-\u001b[39m\u001b[39m1\u001b[39m\n\u001b[1;32m      <a href='vscode-notebook-cell://ssh-remote%2B%E6%88%91%E7%9A%84%E7%94%B5%E8%84%91/home/seeyou/projects/kaggle/tmp.ipynb#ch0000002vscode-remote?line=1'>2</a>\u001b[0m plt\u001b[39m.\u001b[39mplot(x, y,\u001b[39m'\u001b[39m\u001b[39mr\u001b[39m\u001b[39m'\u001b[39m)\n\u001b[1;32m      <a href='vscode-notebook-cell://ssh-remote%2B%E6%88%91%E7%9A%84%E7%94%B5%E8%84%91/home/seeyou/projects/kaggle/tmp.ipynb#ch0000002vscode-remote?line=2'>3</a>\u001b[0m plt\u001b[39m.\u001b[39mshow()\n",
      "\u001b[0;31mValueError\u001b[0m: only one element tensors can be converted to Python scalars"
     ]
    }
   ],
   "source": [
    "y = -5*math.pow(math.cos(math.pi*a/x), 2)-1\n",
    "plt.plot(x, y,'r')\n",
    "plt.show()"
   ]
  },
  {
   "cell_type": "code",
   "execution_count": null,
   "metadata": {},
   "outputs": [],
   "source": []
  }
 ],
 "metadata": {
  "interpreter": {
   "hash": "d6de3116583f909bb9eb01fa0b9839be611b0bd3b57bd68a42094ef9e751f8f9"
  },
  "kernelspec": {
   "display_name": "Python 3.8.13 ('kaggle')",
   "language": "python",
   "name": "python3"
  },
  "language_info": {
   "codemirror_mode": {
    "name": "ipython",
    "version": 3
   },
   "file_extension": ".py",
   "mimetype": "text/x-python",
   "name": "python",
   "nbconvert_exporter": "python",
   "pygments_lexer": "ipython3",
   "version": "3.8.13"
  },
  "orig_nbformat": 4
 },
 "nbformat": 4,
 "nbformat_minor": 2
}
