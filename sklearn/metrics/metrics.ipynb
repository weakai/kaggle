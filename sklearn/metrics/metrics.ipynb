{
 "cells": [
  {
   "cell_type": "markdown",
   "metadata": {
    "collapsed": true,
    "pycharm": {
     "name": "#%% md\n"
    }
   },
   "source": [
    "ROC 曲线用在多分类中是没有意义的。\n",
    "只有在二分类中 Positive 和 Negative 同等重要时候，适合用ROC曲线评价。\n",
    "如果确实需要在多分类问题中用 ROC 曲线的话，可以转化为多个“一对多”的问题。\n",
    "即把其中一个当作正例，其余当作负例来看待，画出多个ROC曲线。\n",
    "\n",
    "AUC 就是 ROC曲线下的面积，衡量学习器优劣的一种性能指标。\n",
    "AUC 的计算方法同时考虑了学习器对于正例和负例的分类能力，在样本不平衡的情况下，依然能够对分类器做出合理的评价。\n",
    "AUC 对样本类别是否均衡并不敏感，这也是不均衡样本通常用 AUC 评价学习器性能的一个原因。\n",
    "例如在癌症预测的场景中，假设没有患癌症的样本为正例，患癌症样本为负例，负例占比很少(大概0.1%)，如果使用准确率评估，把所有的样本预测为正例便可以获得99.9%的准确率。\n",
    "但是如果使用AUC，把所有样本预测为正例，TPR 为 1，FPR 为 1。\n",
    "这种情况下学习器的AUC值将等于 0.5，成功规避了样本不均衡带来的问题。"
   ]
  },
  {
   "cell_type": "code",
   "execution_count": 1,
   "outputs": [
    {
     "data": {
      "text/plain": "0.75"
     },
     "execution_count": 1,
     "metadata": {},
     "output_type": "execute_result"
    }
   ],
   "source": [],
   "metadata": {
    "collapsed": false,
    "pycharm": {
     "name": "#%%\n"
    }
   }
  },
  {
   "cell_type": "code",
   "execution_count": null,
   "outputs": [],
   "source": [
    "f1_score(y_true, y_pred, labels=None, pos_label=1, average=‘binary’, sample_weight=None)"
   ],
   "metadata": {
    "collapsed": false,
    "pycharm": {
     "name": "#%%\n"
    }
   }
  }
 ],
 "metadata": {
  "kernelspec": {
   "display_name": "Python 3",
   "language": "python",
   "name": "python3"
  },
  "language_info": {
   "codemirror_mode": {
    "name": "ipython",
    "version": 2
   },
   "file_extension": ".py",
   "mimetype": "text/x-python",
   "name": "python",
   "nbconvert_exporter": "python",
   "pygments_lexer": "ipython2",
   "version": "2.7.6"
  }
 },
 "nbformat": 4,
 "nbformat_minor": 0
}