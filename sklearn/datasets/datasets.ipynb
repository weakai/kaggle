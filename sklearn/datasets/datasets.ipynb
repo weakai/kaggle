{
 "cells": [
  {
   "cell_type": "markdown",
   "metadata": {},
   "source": [
    "https://zhuanlan.zhihu.com/p/108393576https://zhuanlan.zhihu.com/p/108393576"
   ]
  },
  {
   "cell_type": "markdown",
   "metadata": {},
   "source": [
    "用的比较多的就是玩具数据集和样本生成器，其他的不建议使用。"
   ]
  },
  {
   "cell_type": "markdown",
   "metadata": {},
   "source": [
    "# 玩具数据集"
   ]
  },
  {
   "cell_type": "code",
   "execution_count": 1,
   "metadata": {},
   "outputs": [
    {
     "name": "stdout",
     "output_type": "stream",
     "text": [
      "dict_keys(['data', 'target', 'feature_names', 'DESCR', 'filename'])\n",
      "(506, 13) (506,)\n",
      "['CRIM' 'ZN' 'INDUS' 'CHAS' 'NOX' 'RM' 'AGE' 'DIS' 'RAD' 'TAX' 'PTRATIO'\n",
      " 'B' 'LSTAT']\n",
      ".. _boston_dataset:\n",
      "\n",
      "Boston house prices dataset\n",
      "---------------------------\n",
      "\n",
      "**Data Set Characteristics:**  \n",
      "\n",
      "    :Number of Instances: 506 \n",
      "\n",
      "    :Number of Attributes: 13 numeric/categorical predictive. Median Value (attribute 14) is usually the target.\n",
      "\n",
      "    :Attribute Information (in order):\n",
      "        - CRIM     per capita crime rate by town\n",
      "        - ZN       proportion of residential land zoned for lots over 25,000 sq.ft.\n",
      "        - INDUS    proportion of non-retail business acres per town\n",
      "        - CHAS     Charles River dummy variable (= 1 if tract bounds river; 0 otherwise)\n",
      "        - NOX      nitric oxides concentration (parts per 10 million)\n",
      "        - RM       average number of rooms per dwelling\n",
      "        - AGE      proportion of owner-occupied units built prior to 1940\n",
      "        - DIS      weighted distances to five Boston employment centres\n",
      "        - RAD      index of accessibility to radial highways\n",
      "        - TAX      full-value property-tax rate per $10,000\n",
      "        - PTRATIO  pupil-teacher ratio by town\n",
      "        - B        1000(Bk - 0.63)^2 where Bk is the proportion of black people by town\n",
      "        - LSTAT    % lower status of the population\n",
      "        - MEDV     Median value of owner-occupied homes in $1000's\n",
      "\n",
      "    :Missing Attribute Values: None\n",
      "\n",
      "    :Creator: Harrison, D. and Rubinfeld, D.L.\n",
      "\n",
      "This is a copy of UCI ML housing dataset.\n",
      "https://archive.ics.uci.edu/ml/machine-learning-databases/housing/\n",
      "\n",
      "\n",
      "This dataset was taken from the StatLib library which is maintained at Carnegie Mellon University.\n",
      "\n",
      "The Boston house-price data of Harrison, D. and Rubinfeld, D.L. 'Hedonic\n",
      "prices and the demand for clean air', J. Environ. Economics & Management,\n",
      "vol.5, 81-102, 1978.   Used in Belsley, Kuh & Welsch, 'Regression diagnostics\n",
      "...', Wiley, 1980.   N.B. Various transformations are used in the table on\n",
      "pages 244-261 of the latter.\n",
      "\n",
      "The Boston house-price data has been used in many machine learning papers that address regression\n",
      "problems.   \n",
      "     \n",
      ".. topic:: References\n",
      "\n",
      "   - Belsley, Kuh & Welsch, 'Regression diagnostics: Identifying Influential Data and Sources of Collinearity', Wiley, 1980. 244-261.\n",
      "   - Quinlan,R. (1993). Combining Instance-Based and Model-Based Learning. In Proceedings on the Tenth International Conference of Machine Learning, 236-243, University of Massachusetts, Amherst. Morgan Kaufmann.\n",
      "\n",
      "/home/seeyou/anaconda3/lib/python3.9/site-packages/sklearn/datasets/data/boston_house_prices.csv\n"
     ]
    }
   ],
   "source": [
    "from sklearn import datasets  # 导入库\n",
    "\n",
    "# 波士顿房价\n",
    "# 波士顿 506 处房屋的 13 种不同特征以及房屋的价格\n",
    "# 适用于回归任务。\n",
    "boston = datasets.load_boston()  # 导入波士顿房价数据\n",
    "# 查看键(属性)     ['data','target','feature_names','DESCR', 'filename']\n",
    "print(boston.keys())\n",
    "# 查看数据的形状 (506, 13) (506,)\n",
    "print(boston.data.shape, boston.target.shape)\n",
    "# 查看有哪些特征 这里共 13 种\n",
    "print(boston.feature_names)\n",
    "# described 描述这个数据集的信息\n",
    "print(boston.DESCR)\n",
    "# 文件路径 \n",
    "print(boston.filename)"
   ]
  },
  {
   "cell_type": "code",
   "execution_count": 2,
   "metadata": {},
   "outputs": [
    {
     "name": "stdout",
     "output_type": "stream",
     "text": [
      "(150, 4) (150,)\n",
      "['sepal length (cm)', 'sepal width (cm)', 'petal length (cm)', 'petal width (cm)']\n"
     ]
    }
   ],
   "source": [
    "## 鸢尾花\n",
    "iris = datasets.load_iris()\n",
    "print(iris.data.shape, iris.target.shape)\n",
    "print(iris.feature_names)"
   ]
  },
  {
   "cell_type": "code",
   "execution_count": null,
   "metadata": {},
   "outputs": [],
   "source": [
    "# 导入糖尿病数据\n",
    "diabetes = datasets.load_diabetes()\n",
    "# 手写数字\n",
    "digits = datasets.load_digits()\n",
    "# 体能训练\n",
    "\n",
    "# 红酒\n",
    "wine = datasets.load_wine()\n",
    "\n",
    "# 威斯康辛州乳腺癌\n",
    "cancer = datasets.load_breast_cancer()"
   ]
  },
  {
   "cell_type": "markdown",
   "metadata": {},
   "source": [
    "# 样本生成器"
   ]
  },
  {
   "cell_type": "code",
   "execution_count": null,
   "metadata": {},
   "outputs": [],
   "source": [
    "# 簇\n",
    "centers = [[2,2],[8,2],[2,8],[8,8]]\n",
    "x, y = datasets.make_blobs(n_samples=1000,\n",
    "                           n_features=2,\n",
    "                           centers=4, \n",
    "                           cluster_std=1)\n",
    "# 同心圆\n",
    "# noise: 噪声\n",
    "# factor: 内圆与外圆的距离 为 1 的时候最小\n",
    "x, y = datasets.make_circles(n_samples=5000,\n",
    "                             noise=0.04,\n",
    "                             factor=0.7)\n",
    "\n",
    "# 月牙\n",
    "x, y = datasets.make_moons(n_samples=3000, noise=0.05)\n",
    "# 分类\n",
    "x, y = datasets.make_classification(\n",
    "        n_classes=4,  # 类的数目\n",
    "        n_samples=1000,\n",
    "        n_features=2,\n",
    "        n_informative=2,  # 有效的特征数\n",
    "        n_redundant=0,  # 冗余特征数 有效特征数的线性组合\n",
    "        n_clusters_per_class=1,  # 每一类的簇数\n",
    "        n_repeated=0,  # 有效特征数和冗余特征数的有效组合\n",
    "        random_state=22\n",
    ")"
   ]
  }
 ],
 "metadata": {
  "interpreter": {
   "hash": "0318ac3bd3f59db66109d50e71bef0a750d226209e5ff62348269391b9fbc17e"
  },
  "kernelspec": {
   "display_name": "Python 3.9.7 ('base')",
   "language": "python",
   "name": "python3"
  },
  "language_info": {
   "codemirror_mode": {
    "name": "ipython",
    "version": 3
   },
   "file_extension": ".py",
   "mimetype": "text/x-python",
   "name": "python",
   "nbconvert_exporter": "python",
   "pygments_lexer": "ipython3",
   "version": "3.9.7"
  },
  "orig_nbformat": 4
 },
 "nbformat": 4,
 "nbformat_minor": 2
}
