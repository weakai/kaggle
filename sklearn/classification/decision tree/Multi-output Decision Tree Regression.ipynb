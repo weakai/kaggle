{
 "cells": [
  {
   "cell_type": "markdown",
   "metadata": {},
   "source": [
    "决策树拟合一个圆\n",
    "\n",
    "观察树的深度对拟合的影响\n",
    "\n",
    "深度越大，拟合的越好，计算代价大。"
   ]
  },
  {
   "cell_type": "code",
   "execution_count": 30,
   "metadata": {},
   "outputs": [],
   "source": [
    "import numpy as np\n",
    "import matplotlib.pyplot as plt\n",
    "from sklearn.tree import DecisionTreeRegressor"
   ]
  },
  {
   "cell_type": "code",
   "execution_count": 31,
   "metadata": {},
   "outputs": [],
   "source": [
    "# Create a random dataset\n",
    "rng = np.random.RandomState(1)\n",
    "X = np.sort(200 * rng.rand(100, 1) - 100, axis=0)\n",
    "# get y with the shape of (100, 2)\n",
    "y = np.array([\n",
    "    np.pi * np.sin(X).ravel(),\n",
    "    np.pi * np.cos(X).ravel(),\n",
    "]).T\n",
    "\n",
    "# add noises\n",
    "y[::5, :] += 0.5 - rng.rand(20, 2)"
   ]
  },
  {
   "cell_type": "code",
   "execution_count": 32,
   "metadata": {},
   "outputs": [
    {
     "data": {
      "text/plain": [
       "DecisionTreeRegressor(max_depth=2)"
      ]
     },
     "execution_count": 32,
     "metadata": {},
     "output_type": "execute_result"
    }
   ],
   "source": [
    "# Fit regression model\n",
    "md1, md2, md3 = 8, 12, 2\n",
    "regr_1 = DecisionTreeRegressor(max_depth=md1)\n",
    "regr_2 = DecisionTreeRegressor(max_depth=md2)\n",
    "regr_3 = DecisionTreeRegressor(max_depth=md3)\n",
    "regr_1.fit(X, y)\n",
    "regr_2.fit(X, y)\n",
    "regr_3.fit(X, y)"
   ]
  },
  {
   "cell_type": "code",
   "execution_count": 33,
   "metadata": {},
   "outputs": [
    {
     "data": {
      "text/plain": [
       "((20000, 1), (20000, 2))"
      ]
     },
     "execution_count": 33,
     "metadata": {},
     "output_type": "execute_result"
    }
   ],
   "source": [
    "# Predict\n",
    "X_test = np.arange(-100.0, 100.0, 0.01)[..., np.newaxis]\n",
    "y_1 = regr_1.predict(X_test)\n",
    "y_2 = regr_2.predict(X_test)\n",
    "y_3 = regr_3.predict(X_test)\n",
    "X_test.shape, y_1.shape"
   ]
  },
  {
   "cell_type": "code",
   "execution_count": 34,
   "metadata": {},
   "outputs": [
    {
     "data": {
      "image/png": "[encoded data removed]",
      "text/plain": [
       "<Figure size 432x288 with 1 Axes>"
      ]
     },
     "metadata": {
      "needs_background": "light"
     },
     "output_type": "display_data"
    }
   ],
   "source": [
    "# Plot the results\n",
    "plt.figure()\n",
    "s = 25 # set the size\n",
    "plt.scatter(y[:, 0], y[:, 1], c=\"navy\", s=s, edgecolor=\"black\", label=\"data\")\n",
    "plt.scatter(\n",
    "    y_1[:, 0],\n",
    "    y_1[:, 1],\n",
    "    c=\"cornflowerblue\",\n",
    "    s=s,\n",
    "    edgecolor=\"black\",\n",
    "    label=f\"max_depth={md1}\",\n",
    ")\n",
    "plt.scatter(y_2[:, 0], y_2[:, 1], c=\"red\", s=s, edgecolor=\"black\", label=f\"max_depth={md2}\")\n",
    "plt.scatter(\n",
    "    y_3[:, 0], y_3[:, 1], c=\"orange\", s=s, edgecolor=\"black\", label=f\"max_depth={md3}\"\n",
    ")\n",
    "plt.xlim([-6, 6])\n",
    "plt.ylim([-6, 6])\n",
    "plt.xlabel(\"target 1\")\n",
    "plt.ylabel(\"target 2\")\n",
    "plt.title(\"Multi-output Decision Tree Regression\")\n",
    "plt.legend(loc=\"best\")\n",
    "plt.show()"
   ]
  }
 ],
 "metadata": {
  "interpreter": {
   "hash": "5a3c26cbdc99c7ff26bc81ce3f8c64be3fb9f3f62ba5f73dfc459f5466129111"
  },
  "kernelspec": {
   "display_name": "Python 3.10.1 64-bit ('sklearn-env': conda)",
   "language": "python",
   "name": "python3"
  },
  "language_info": {
   "codemirror_mode": {
    "name": "ipython",
    "version": 3
   },
   "file_extension": ".py",
   "mimetype": "text/x-python",
   "name": "python",
   "nbconvert_exporter": "python",
   "pygments_lexer": "ipython3",
   "version": "3.10.1"
  },
  "orig_nbformat": 4
 },
 "nbformat": 4,
 "nbformat_minor": 2
}
