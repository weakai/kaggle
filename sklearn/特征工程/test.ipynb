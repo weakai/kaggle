{
 "cells": [
  {
   "cell_type": "markdown",
   "metadata": {
    "collapsed": true,
    "pycharm": {
     "name": "#%% md\n"
    }
   },
   "source": [
    "## 参考\n",
    "\n",
    "[Python机器学习笔记：使用sklearn做特征工程和数据挖掘](https://www.cnblogs.com/wj-1314/p/9600298.html)"
   ]
  },
  {
   "cell_type": "code",
   "execution_count": 1,
   "outputs": [],
   "source": [
    "from sklearn.datasets import load_iris\n",
    "\n",
    "# 导入IRIS数据集\n",
    "iris = load_iris()\n",
    "# 特征矩阵\n",
    "data = iris.data\n",
    "# 目标向量\n",
    "target = iris.target"
   ],
   "metadata": {
    "collapsed": false,
    "pycharm": {
     "name": "#%%\n"
    }
   }
  },
  {
   "cell_type": "markdown",
   "source": [
    "# 导入本地的 iris 数据集\n",
    "dataframe = pd.read_csv('iris.csv',header=None)\n",
    "iris_data = dataframe.values\n",
    "print(type(iris_data))  # <class 'numpy.ndarray'>\n",
    "# 特征矩阵\n",
    "data = iris_data[:,0:-1]\n",
    "# 目标向量\n",
    "target = iris_data[:,-1]"
   ],
   "metadata": {
    "collapsed": false,
    "pycharm": {
     "name": "#%% md\n"
    }
   }
  },
  {
   "cell_type": "code",
   "execution_count": null,
   "outputs": [],
   "source": [],
   "metadata": {
    "collapsed": false,
    "pycharm": {
     "name": "#%%\n"
    }
   }
  }
 ],
 "metadata": {
  "kernelspec": {
   "display_name": "Python 3",
   "language": "python",
   "name": "python3"
  },
  "language_info": {
   "codemirror_mode": {
    "name": "ipython",
    "version": 2
   },
   "file_extension": ".py",
   "mimetype": "text/x-python",
   "name": "python",
   "nbconvert_exporter": "python",
   "pygments_lexer": "ipython2",
   "version": "2.7.6"
  }
 },
 "nbformat": 4,
 "nbformat_minor": 0
}